{
 "cells": [
  {
   "cell_type": "code",
   "execution_count": 1,
   "id": "95421526",
   "metadata": {},
   "outputs": [
    {
     "name": "stdout",
     "output_type": "stream",
     "text": [
      "My third birthday was in 2005\n",
      "In my list, I was oldest in 2007\n"
     ]
    }
   ],
   "source": [
    "#7.1\n",
    "years_list = [2002, 2003, 2004, 2005, 2006, 2007]\n",
    "#7.2\n",
    "print(f'My third birthday was in {years_list[3]}')\n",
    "#7.3\n",
    "print(f'I was oldest in {years_list[-1]}')"
   ]
  },
  {
   "cell_type": "code",
   "execution_count": 4,
   "id": "03b38ca3",
   "metadata": {},
   "outputs": [
    {
     "name": "stdout",
     "output_type": "stream",
     "text": [
      "['mozzarella', 'Cinderella', 'salmonella']\n",
      "['MOZZARELLA', 'Cinderella', 'salmonella']\n",
      "['MOZZARELLA', 'Cinderella']\n"
     ]
    }
   ],
   "source": [
    "#7.4\n",
    "things = [\"mozzarella\", \"cinderella\", \"salmonella\"] \n",
    "#7.5\n",
    "things[1] = things[1].capitalize()\n",
    "print(things)\n",
    "#7.6\n",
    "things[0] = things[0].upper()\n",
    "print(things)\n",
    "#7.7\n",
    "things.pop()\n",
    "print(things)"
   ]
  },
  {
   "cell_type": "code",
   "execution_count": 8,
   "id": "f0c7f9e9",
   "metadata": {},
   "outputs": [
    {
     "name": "stdout",
     "output_type": "stream",
     "text": [
      "['Groucho', 'Chico', 'harpo']\n",
      "['Harpo', 'Chico', 'Groucho']\n"
     ]
    }
   ],
   "source": [
    "#7.8\n",
    "suprise = [\"Groucho\", \"Chico\", \"Harpo\"]\n",
    "#7.9\n",
    "suprise[-1] = suprise[-1].lower()\n",
    "print(suprise)\n",
    "suprise.reverse()\n",
    "suprise[0] = suprise[0].capitalize()\n",
    "print(suprise)"
   ]
  },
  {
   "cell_type": "code",
   "execution_count": 9,
   "id": "afc76aba",
   "metadata": {},
   "outputs": [
    {
     "name": "stdout",
     "output_type": "stream",
     "text": [
      "[0, 2, 4, 6, 8]\n"
     ]
    }
   ],
   "source": [
    "#7.10\n",
    "even = [number for number in range(10) if number % 2 == 0]\n",
    "print(even)"
   ]
  },
  {
   "cell_type": "code",
   "execution_count": 12,
   "id": "dc3b509f",
   "metadata": {},
   "outputs": [
    {
     "name": "stdout",
     "output_type": "stream",
     "text": [
      "Fee! Fie! Foe! \n",
      "Someone better get a mop.\n",
      "Fee! Fie! Foe! \n",
      "Someone better turn the rope.\n",
      "Fee! Fie! Foe! \n",
      "Someone better get your ma.\n",
      "Fee! Fie! Foe! \n",
      "Someone better call the judge.\n",
      "Fee! Fie! Foe! \n",
      "Someone better pet the cat.\n",
      "Fee! Fie! Foe! \n",
      "Someone better walk the dog.\n",
      "Fee! Fie! Foe! \n",
      "Someone better say we're done.\n"
     ]
    }
   ],
   "source": [
    "#7.11\n",
    "start1 = [\"fee\", \"fie\", \"foe\"]\n",
    "rhymes = [\n",
    "    (\"flop\", \"get a mop\"),\n",
    "    (\"fope\", \"turn the rope\"),\n",
    "    (\"fa\", \"get your ma\"),\n",
    "    (\"fudge\", \"call the judge\"),\n",
    "    (\"fat\", \"pet the cat\"),\n",
    "    (\"fog\", \"walk the dog\"),\n",
    "    (\"fun\", \"say we're done\"),\n",
    "    ]\n",
    "start2 = \"Someone better\"\n",
    "for first, second in rhymes:\n",
    "    print(\"! \".join(start1).title() + \"! \")\n",
    "    print(f'{start2} {second}.')"
   ]
  },
  {
   "cell_type": "code",
   "execution_count": 3,
   "id": "9fb6bdd3",
   "metadata": {
    "scrolled": true
   },
   "outputs": [
    {
     "data": {
      "text/plain": [
       "['harry', 'ron']"
      ]
     },
     "execution_count": 3,
     "metadata": {},
     "output_type": "execute_result"
    }
   ],
   "source": [
    "#9.1\n",
    "def good():\n",
    "    return [\"Harry\",\"Ron\", 'Hermione']\n"
   ]
  },
  {
   "cell_type": "code",
   "execution_count": 24,
   "id": "a068c9a2",
   "metadata": {},
   "outputs": [
    {
     "name": "stdout",
     "output_type": "stream",
     "text": [
      "5\n"
     ]
    }
   ],
   "source": [
    "#9.2\n",
    "def get_odds():\n",
    "    odd = [number for number in range(10) if number % 2 == 1]\n",
    "    return odd\n",
    "get_odds()    \n",
    "\n",
    "count = 0\n",
    "for number in get_odds():\n",
    "    count +=1\n",
    "    if count == 3: \n",
    "        print(number)\n",
    "        "
   ]
  }
 ],
 "metadata": {
  "kernelspec": {
   "display_name": "Python 3 (ipykernel)",
   "language": "python",
   "name": "python3"
  },
  "language_info": {
   "codemirror_mode": {
    "name": "ipython",
    "version": 3
   },
   "file_extension": ".py",
   "mimetype": "text/x-python",
   "name": "python",
   "nbconvert_exporter": "python",
   "pygments_lexer": "ipython3",
   "version": "3.11.4"
  }
 },
 "nbformat": 4,
 "nbformat_minor": 5
}
