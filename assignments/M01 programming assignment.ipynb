{
 "cells": [
  {
   "cell_type": "code",
   "execution_count": 10,
   "id": "c0de47ab",
   "metadata": {},
   "outputs": [
    {
     "name": "stdout",
     "output_type": "stream",
     "text": [
      "There are 3600 seconds in an hour.\n",
      "There are 86400 seconds in a day.\n",
      "24.0\n",
      "24\n"
     ]
    }
   ],
   "source": [
    "'''\n",
    "Savana Fallen\n",
    "08/27/2023\n",
    "SDEV220\n",
    "'''\n",
    "#3.1\n",
    "print(f\"There are {60 * 60} seconds in an hour.\") \n",
    "\n",
    "#3.2\n",
    "seconds_per_hour = 3600 \n",
    "\n",
    "#3.3\n",
    "print(f\"There are {seconds_per_hour * 24} seconds in a day.\") \n",
    "\n",
    "#3.4\n",
    "seconds_per_day = 86400 \n",
    "\n",
    "#3.5\n",
    "#floating point division gives answer as type float.\n",
    "print({seconds_per_day / seconds_per_hour}) \n",
    "\n",
    "#3.6\n",
    "#truncating integer division gives answer as type integer.\n",
    "print(seconds_per_day // seconds_per_hour) \n",
    "\n",
    "#note: aside from the final .0 the integer value does agree with the floating point value"
   ]
  },
  {
   "cell_type": "code",
   "execution_count": null,
   "id": "cedf6f31",
   "metadata": {},
   "outputs": [],
   "source": []
  },
  {
   "cell_type": "code",
   "execution_count": null,
   "id": "61f6fa29",
   "metadata": {},
   "outputs": [],
   "source": []
  }
 ],
 "metadata": {
  "kernelspec": {
   "display_name": "Python 3 (ipykernel)",
   "language": "python",
   "name": "python3"
  },
  "language_info": {
   "codemirror_mode": {
    "name": "ipython",
    "version": 3
   },
   "file_extension": ".py",
   "mimetype": "text/x-python",
   "name": "python",
   "nbconvert_exporter": "python",
   "pygments_lexer": "ipython3",
   "version": "3.11.4"
  }
 },
 "nbformat": 4,
 "nbformat_minor": 5
}
