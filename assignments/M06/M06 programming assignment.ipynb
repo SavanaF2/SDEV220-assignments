{
 "cells": [
  {
   "cell_type": "code",
   "execution_count": 12,
   "id": "7b84fc85",
   "metadata": {},
   "outputs": [
    {
     "data": {
      "text/plain": [
       "time.struct_time(tm_year=2023, tm_mon=10, tm_mday=1, tm_hour=0, tm_min=0, tm_sec=0, tm_wday=6, tm_yday=274, tm_isdst=-1)"
      ]
     },
     "execution_count": 12,
     "metadata": {},
     "output_type": "execute_result"
    }
   ],
   "source": [
    "import time\n",
    "\n",
    "#opens the file, states we want to read it, and stores it in a variable\n",
    "t = open('today.txt','r')\n",
    "\n",
    "today_string=t.read()\n",
    "\n",
    "fmt = \"%Y-%m-%d\"\n",
    "time.strptime(today_string, fmt)"
   ]
  },
  {
   "cell_type": "code",
   "execution_count": 21,
   "id": "c117dfbd",
   "metadata": {},
   "outputs": [],
   "source": [
    "#note: this runs properly in VScode; however, will not output anything in Jupyter.\n",
    "import multiprocessing\n",
    "import time\n",
    "import datetime\n",
    "import random\n",
    "\n",
    "def process():\n",
    "    #stores a random number between 1 and 5\n",
    "    oneToFive = random.randint(1,5)\n",
    "    print( f\"Waiting for {oneToFive} seconds\")\n",
    "    #waits the amount of seconds stored in the oneToFive variable\n",
    "    time.sleep(oneToFive)\n",
    "    #prints the current time\n",
    "    print(datetime.datetime.now())\n",
    "\n",
    "if __name__ == \"__main__\":\n",
    "        #declaress the amount of times the process function will run\n",
    "        for num in range(3):\n",
    "            p = multiprocessing.Process(target=process)\n",
    "            p.start()\n",
    "              "
   ]
  }
 ],
 "metadata": {
  "kernelspec": {
   "display_name": "Python 3 (ipykernel)",
   "language": "python",
   "name": "python3"
  },
  "language_info": {
   "codemirror_mode": {
    "name": "ipython",
    "version": 3
   },
   "file_extension": ".py",
   "mimetype": "text/x-python",
   "name": "python",
   "nbconvert_exporter": "python",
   "pygments_lexer": "ipython3",
   "version": "3.11.4"
  }
 },
 "nbformat": 4,
 "nbformat_minor": 5
}
