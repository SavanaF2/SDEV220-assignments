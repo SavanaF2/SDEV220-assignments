{
 "cells": [
  {
   "cell_type": "code",
   "execution_count": null,
   "id": "81473773",
   "metadata": {},
   "outputs": [],
   "source": [
    "#11.1\n",
    "def hours():\n",
    "    print('Open 9-5 daily')\n",
    "    \n",
    "import zoo\n",
    "\n",
    "zoo.hours()"
   ]
  },
  {
   "cell_type": "code",
   "execution_count": null,
   "id": "77325a49",
   "metadata": {},
   "outputs": [],
   "source": [
    "#11.2\n",
    "import zoo as menagerie\n",
    "\n",
    "menagerie.hours()"
   ]
  },
  {
   "cell_type": "code",
   "execution_count": 4,
   "id": "673d2a76",
   "metadata": {},
   "outputs": [
    {
     "name": "stdout",
     "output_type": "stream",
     "text": [
      "('Dracula',)\n",
      "('Harry Potter',)\n",
      "('Mocking Jay',)\n"
     ]
    }
   ],
   "source": [
    "#16.8\n",
    "import sqlalchemy as sa\n",
    "from sqlalchemy.ext.declarative import declarative_base\n",
    "\n",
    "conn = sa.create_engine('sqlite:///mybooks.db')\n",
    "\n",
    "Base = declarative_base()\n",
    "class Book(Base):\n",
    "    __tablename__ = 'mybooks'\n",
    "    title = sa.Column('title', sa.String, primary_key=True)\n",
    "    author = sa.Column('author', sa.String)\n",
    "    year = sa.Column('year', sa.Integer)\n",
    "    def __init__(self, title, author, year):\n",
    "        self.title = title\n",
    "        self.author = author\n",
    "        self.year = year\n",
    "    def __repr__(self):\n",
    "        return \"<Book({}, {}, {})>\".format(self.title, self.author,\n",
    "           self.year)\n",
    "\n",
    "Base.metadata.create_all(conn)\n",
    "\n",
    "first = Book('Harry Potter', \"JK Rowling\", 2002)\n",
    "second = Book('Mocking Jay', 'Suzanne Collins', 2002)\n",
    "third = Book('Dracula', \"Bram Stoker\", 1897)\n",
    "\n",
    "from sqlalchemy.orm import sessionmaker\n",
    "Session = sessionmaker(bind=conn)\n",
    "session = Session()\n",
    "\n",
    "\n",
    "rows = conn.execute('SELECT title FROM mybooks')\n",
    "    \n",
    "for row in rows:\n",
    "    print(row)"
   ]
  },
  {
   "cell_type": "code",
   "execution_count": null,
   "id": "15808464",
   "metadata": {},
   "outputs": [],
   "source": []
  }
 ],
 "metadata": {
  "kernelspec": {
   "display_name": "Python 3 (ipykernel)",
   "language": "python",
   "name": "python3"
  },
  "language_info": {
   "codemirror_mode": {
    "name": "ipython",
    "version": 3
   },
   "file_extension": ".py",
   "mimetype": "text/x-python",
   "name": "python",
   "nbconvert_exporter": "python",
   "pygments_lexer": "ipython3",
   "version": "3.11.4"
  }
 },
 "nbformat": 4,
 "nbformat_minor": 5
}
